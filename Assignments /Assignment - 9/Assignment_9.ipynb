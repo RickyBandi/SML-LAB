{
  "nbformat": 4,
  "nbformat_minor": 0,
  "metadata": {
    "colab": {
      "provenance": []
    },
    "kernelspec": {
      "name": "python3",
      "display_name": "Python 3"
    },
    "language_info": {
      "name": "python"
    }
  },
  "cells": [
    {
      "cell_type": "code",
      "execution_count": null,
      "metadata": {
        "colab": {
          "base_uri": "https://localhost:8080/"
        },
        "id": "1j8nz4rnh_FU",
        "outputId": "c9defb7b-d7e4-4e62-8578-81da025f9c0b"
      },
      "outputs": [
        {
          "output_type": "stream",
          "name": "stdout",
          "text": [
            "Mounted at /content/drive\n"
          ]
        }
      ],
      "source": [
        "from google.colab import drive\n",
        "drive.mount('/content/drive')"
      ]
    },
    {
      "cell_type": "code",
      "source": [
        "import pandas as pd\n",
        "from sklearn.model_selection import train_test_split\n",
        "from sklearn.preprocessing import LabelEncoder\n",
        "from sklearn.ensemble import RandomForestClassifier\n",
        "from sklearn.metrics import accuracy_score\n",
        "\n",
        "file_path = '/content/drive/MyDrive/SML Dataset/breast_cancer_survival.csv'\n",
        "data = pd.read_csv(file_path)\n",
        "\n",
        "label_encoder = LabelEncoder()\n",
        "\n",
        "data['Patient_Status'] = label_encoder.fit_transform(data['Patient_Status'])\n",
        "\n",
        "categorical_columns = ['Gender', 'Tumour_Stage', 'Histology', 'ER status', 'PR status', 'HER2 status', 'Surgery_type']\n",
        "for col in categorical_columns:\n",
        "    data[col] = label_encoder.fit_transform(data[col])\n",
        "\n",
        "X = data.drop(['Patient_Status', 'Date_of_Surgery', 'Date_of_Last_Visit'], axis=1)\n",
        "y = data['Patient_Status']\n",
        "\n",
        "model = RandomForestClassifier()\n",
        "\n",
        "test_sizes = [0.2, 0.3, 0.4]\n",
        "results = {}\n",
        "\n",
        "for test_size in test_sizes:\n",
        "    X_train, X_test, y_train, y_test = train_test_split(X, y, test_size=test_size, random_state=42)\n",
        "    model.fit(X_train, y_train)\n",
        "    y_pred = model.predict(X_test)\n",
        "    accuracy = accuracy_score(y_test, y_pred)\n",
        "    results[f'Test Size {test_size}'] = accuracy\n",
        "\n",
        "print(\"Accuracy for different test sizes:\")\n",
        "for test_size, accuracy in results.items():\n",
        "    print(f\"{test_size}: {accuracy * 100:.2f}%\")"
      ],
      "metadata": {
        "colab": {
          "base_uri": "https://localhost:8080/"
        },
        "id": "YpH0SM9KiWPW",
        "outputId": "2b8e2f00-c3e6-4e9e-b30a-86532801bdbc"
      },
      "execution_count": null,
      "outputs": [
        {
          "output_type": "stream",
          "name": "stdout",
          "text": [
            "Accuracy for different test sizes:\n",
            "Test Size 0.2: 76.12%\n",
            "Test Size 0.3: 78.22%\n",
            "Test Size 0.4: 76.87%\n"
          ]
        }
      ]
    },
    {
      "cell_type": "markdown",
      "source": [
        "Question 2\n"
      ],
      "metadata": {
        "id": "9s3dwhRZowk-"
      }
    },
    {
      "cell_type": "code",
      "source": [
        "from sklearn.linear_model import LogisticRegression\n",
        "from sklearn.model_selection import train_test_split\n",
        "from sklearn.metrics import accuracy_score\n",
        "\n",
        "model = LogisticRegression(max_iter=1000)\n",
        "\n",
        "test_sizes = [0.2, 0.3, 0.4]\n",
        "results = {}\n",
        "\n",
        "for test_size in test_sizes:\n",
        "    X_train, X_test, y_train, y_test = train_test_split(X, y, test_size=test_size, random_state=42)\n",
        "    model.fit(X_train, y_train)\n",
        "    y_pred = model.predict(X_test)\n",
        "    accuracy = accuracy_score(y_test, y_pred)\n",
        "    results[f'Test Size {test_size}'] = accuracy\n",
        "\n",
        "print(\"Accuracy for different test sizes using Logistic Regression:\")\n",
        "for test_size, accuracy in results.items():\n",
        "    print(f\"{test_size}: {accuracy * 100:.2f}%\")"
      ],
      "metadata": {
        "colab": {
          "base_uri": "https://localhost:8080/"
        },
        "id": "-Pokc6bAovqq",
        "outputId": "f02c93c2-662a-4265-b4e5-235fa0bba4aa"
      },
      "execution_count": null,
      "outputs": [
        {
          "output_type": "stream",
          "name": "stdout",
          "text": [
            "Accuracy for different test sizes using Logistic Regression:\n",
            "Test Size 0.2: 77.61%\n",
            "Test Size 0.3: 78.22%\n",
            "Test Size 0.4: 77.61%\n"
          ]
        }
      ]
    }
  ]
}